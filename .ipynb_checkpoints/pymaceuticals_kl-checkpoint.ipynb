{
 "cells": [
  {
   "cell_type": "markdown",
   "metadata": {},
   "source": [
    "## Observations and Insights "
   ]
  },
  {
   "cell_type": "markdown",
   "metadata": {},
   "source": [
    "RESULTS DISCUSSION:\n",
    "\n",
    "-Based on the number of timepoints per drug regimen, Capomulin and Ramicane had the most timepoints. Final tumor volumes for these drugs were smallest, and the standard error of the means were relatively low (approximately 0.32), compared to other drugs. This suggests that these drugs are effective in reducing tumor volume and that the data is representative of population 0effects.  However, this conclusion is limited because the reasons for fewer timepoints with the other drugs(i.e. stopping the drug sooner) are not known.  \n",
    "- The final tumor volumes of Infubinol and Ceftamin were generally higher than those of Capomulin and Ramicane.\n",
    "- Average tumor size and increased mouse weight showed a strong positive correlation.  \n"
   ]
  },
  {
   "cell_type": "code",
   "execution_count": 90,
   "metadata": {},
   "outputs": [],
   "source": [
    "# Dependencies and Setup\n",
    "import matplotlib.pyplot as plt\n",
    "import pandas as pd\n",
    "import scipy.stats as st\n",
    "from scipy.stats import linregress\n",
    "import numpy as np\n",
    "\n",
    "# Study data files\n",
    "mouse_metadata_path = \"Resources/data/Mouse_metadata.csv\"\n",
    "study_results_path = \"Resources/data/Study_results.csv\"\n",
    "\n",
    "# Read the mouse data and the study results\n",
    "mouse_metadata_df = pd.read_csv(mouse_metadata_path)\n",
    "study_results_df = pd.read_csv(study_results_path)"
   ]
  },
  {
   "cell_type": "code",
   "execution_count": 91,
   "metadata": {},
   "outputs": [
    {
     "name": "stdout",
     "output_type": "stream",
     "text": [
      "249\n",
      "249\n",
      "1893\n",
      "249\n"
     ]
    }
   ],
   "source": [
    "#check length of datasets and unique IDs\n",
    "\n",
    "mouse_data = len(mouse_metadata_df[\"Mouse ID\"])\n",
    "mouse_data_IDs = len(mouse_metadata_df[\"Mouse ID\"].unique())\n",
    "print(mouse_data)\n",
    "print(mouse_data_IDs)\n",
    "\n",
    "study_data = len(study_results_df[\"Mouse ID\"])\n",
    "study_data_IDs = len(study_results_df[\"Mouse ID\"].unique())\n",
    "print(study_data)\n",
    "print(study_data_IDs)"
   ]
  },
  {
   "cell_type": "code",
   "execution_count": 92,
   "metadata": {},
   "outputs": [
    {
     "data": {
      "text/html": [
       "<div>\n",
       "<style scoped>\n",
       "    .dataframe tbody tr th:only-of-type {\n",
       "        vertical-align: middle;\n",
       "    }\n",
       "\n",
       "    .dataframe tbody tr th {\n",
       "        vertical-align: top;\n",
       "    }\n",
       "\n",
       "    .dataframe thead th {\n",
       "        text-align: right;\n",
       "    }\n",
       "</style>\n",
       "<table border=\"1\" class=\"dataframe\">\n",
       "  <thead>\n",
       "    <tr style=\"text-align: right;\">\n",
       "      <th></th>\n",
       "      <th>Mouse ID</th>\n",
       "      <th>Drug Regimen</th>\n",
       "      <th>Sex</th>\n",
       "      <th>Age_months</th>\n",
       "      <th>Weight (g)</th>\n",
       "      <th>Timepoint</th>\n",
       "      <th>Tumor Volume (mm3)</th>\n",
       "      <th>Metastatic Sites</th>\n",
       "    </tr>\n",
       "  </thead>\n",
       "  <tbody>\n",
       "    <tr>\n",
       "      <th>0</th>\n",
       "      <td>k403</td>\n",
       "      <td>Ramicane</td>\n",
       "      <td>Male</td>\n",
       "      <td>21</td>\n",
       "      <td>16</td>\n",
       "      <td>0</td>\n",
       "      <td>45.000000</td>\n",
       "      <td>0</td>\n",
       "    </tr>\n",
       "    <tr>\n",
       "      <th>1</th>\n",
       "      <td>k403</td>\n",
       "      <td>Ramicane</td>\n",
       "      <td>Male</td>\n",
       "      <td>21</td>\n",
       "      <td>16</td>\n",
       "      <td>5</td>\n",
       "      <td>38.825898</td>\n",
       "      <td>0</td>\n",
       "    </tr>\n",
       "    <tr>\n",
       "      <th>2</th>\n",
       "      <td>k403</td>\n",
       "      <td>Ramicane</td>\n",
       "      <td>Male</td>\n",
       "      <td>21</td>\n",
       "      <td>16</td>\n",
       "      <td>10</td>\n",
       "      <td>35.014271</td>\n",
       "      <td>1</td>\n",
       "    </tr>\n",
       "    <tr>\n",
       "      <th>3</th>\n",
       "      <td>k403</td>\n",
       "      <td>Ramicane</td>\n",
       "      <td>Male</td>\n",
       "      <td>21</td>\n",
       "      <td>16</td>\n",
       "      <td>15</td>\n",
       "      <td>34.223992</td>\n",
       "      <td>1</td>\n",
       "    </tr>\n",
       "    <tr>\n",
       "      <th>4</th>\n",
       "      <td>k403</td>\n",
       "      <td>Ramicane</td>\n",
       "      <td>Male</td>\n",
       "      <td>21</td>\n",
       "      <td>16</td>\n",
       "      <td>20</td>\n",
       "      <td>32.997729</td>\n",
       "      <td>1</td>\n",
       "    </tr>\n",
       "    <tr>\n",
       "      <th>...</th>\n",
       "      <td>...</td>\n",
       "      <td>...</td>\n",
       "      <td>...</td>\n",
       "      <td>...</td>\n",
       "      <td>...</td>\n",
       "      <td>...</td>\n",
       "      <td>...</td>\n",
       "      <td>...</td>\n",
       "    </tr>\n",
       "    <tr>\n",
       "      <th>1888</th>\n",
       "      <td>z969</td>\n",
       "      <td>Naftisol</td>\n",
       "      <td>Male</td>\n",
       "      <td>9</td>\n",
       "      <td>30</td>\n",
       "      <td>25</td>\n",
       "      <td>63.145652</td>\n",
       "      <td>2</td>\n",
       "    </tr>\n",
       "    <tr>\n",
       "      <th>1889</th>\n",
       "      <td>z969</td>\n",
       "      <td>Naftisol</td>\n",
       "      <td>Male</td>\n",
       "      <td>9</td>\n",
       "      <td>30</td>\n",
       "      <td>30</td>\n",
       "      <td>65.841013</td>\n",
       "      <td>3</td>\n",
       "    </tr>\n",
       "    <tr>\n",
       "      <th>1890</th>\n",
       "      <td>z969</td>\n",
       "      <td>Naftisol</td>\n",
       "      <td>Male</td>\n",
       "      <td>9</td>\n",
       "      <td>30</td>\n",
       "      <td>35</td>\n",
       "      <td>69.176246</td>\n",
       "      <td>4</td>\n",
       "    </tr>\n",
       "    <tr>\n",
       "      <th>1891</th>\n",
       "      <td>z969</td>\n",
       "      <td>Naftisol</td>\n",
       "      <td>Male</td>\n",
       "      <td>9</td>\n",
       "      <td>30</td>\n",
       "      <td>40</td>\n",
       "      <td>70.314904</td>\n",
       "      <td>4</td>\n",
       "    </tr>\n",
       "    <tr>\n",
       "      <th>1892</th>\n",
       "      <td>z969</td>\n",
       "      <td>Naftisol</td>\n",
       "      <td>Male</td>\n",
       "      <td>9</td>\n",
       "      <td>30</td>\n",
       "      <td>45</td>\n",
       "      <td>73.867845</td>\n",
       "      <td>4</td>\n",
       "    </tr>\n",
       "  </tbody>\n",
       "</table>\n",
       "<p>1893 rows × 8 columns</p>\n",
       "</div>"
      ],
      "text/plain": [
       "     Mouse ID Drug Regimen   Sex  Age_months  Weight (g)  Timepoint  \\\n",
       "0        k403     Ramicane  Male          21          16          0   \n",
       "1        k403     Ramicane  Male          21          16          5   \n",
       "2        k403     Ramicane  Male          21          16         10   \n",
       "3        k403     Ramicane  Male          21          16         15   \n",
       "4        k403     Ramicane  Male          21          16         20   \n",
       "...       ...          ...   ...         ...         ...        ...   \n",
       "1888     z969     Naftisol  Male           9          30         25   \n",
       "1889     z969     Naftisol  Male           9          30         30   \n",
       "1890     z969     Naftisol  Male           9          30         35   \n",
       "1891     z969     Naftisol  Male           9          30         40   \n",
       "1892     z969     Naftisol  Male           9          30         45   \n",
       "\n",
       "      Tumor Volume (mm3)  Metastatic Sites  \n",
       "0              45.000000                 0  \n",
       "1              38.825898                 0  \n",
       "2              35.014271                 1  \n",
       "3              34.223992                 1  \n",
       "4              32.997729                 1  \n",
       "...                  ...               ...  \n",
       "1888           63.145652                 2  \n",
       "1889           65.841013                 3  \n",
       "1890           69.176246                 4  \n",
       "1891           70.314904                 4  \n",
       "1892           73.867845                 4  \n",
       "\n",
       "[1893 rows x 8 columns]"
      ]
     },
     "execution_count": 92,
     "metadata": {},
     "output_type": "execute_result"
    }
   ],
   "source": [
    "# Combine the data into a single dataset\n",
    "all_data_df = pd.merge(mouse_metadata_df,study_results_df, how=\"left\", on=[\"Mouse ID\", \"Mouse ID\"])\n",
    "\n",
    "# Display the data table for preview\n",
    "all_data_df"
   ]
  },
  {
   "cell_type": "code",
   "execution_count": 93,
   "metadata": {},
   "outputs": [
    {
     "name": "stdout",
     "output_type": "stream",
     "text": [
      "249\n"
     ]
    }
   ],
   "source": [
    "# Check the number of mice.\n",
    "num_mice = len(all_data_df[\"Mouse ID\"].unique())\n",
    "print(num_mice)"
   ]
  },
  {
   "cell_type": "code",
   "execution_count": 128,
   "metadata": {},
   "outputs": [],
   "source": [
    "# Find any duplicate rows with the same Mouse ID's and Timepoints. \n",
    "all_data_dups_df = all_data_df[all_data_df.duplicated(subset=['Mouse ID','Timepoint'], keep=False)]\n"
   ]
  },
  {
   "cell_type": "code",
   "execution_count": 95,
   "metadata": {},
   "outputs": [],
   "source": [
    "# Drop any duplicate rows\n",
    "all_data_red_df = all_data_df.drop_duplicates(subset=['Mouse ID', 'Timepoint'], keep='first')\n",
    "all_data_red_df.to_csv('all_data.csv')"
   ]
  },
  {
   "cell_type": "code",
   "execution_count": 96,
   "metadata": {},
   "outputs": [
    {
     "name": "stdout",
     "output_type": "stream",
     "text": [
      "1888\n"
     ]
    }
   ],
   "source": [
    "# Recheck the number of mice\n",
    "print(len(all_data_red_df))"
   ]
  },
  {
   "cell_type": "markdown",
   "metadata": {},
   "source": [
    "## Summary Statistics"
   ]
  },
  {
   "cell_type": "code",
   "execution_count": 97,
   "metadata": {},
   "outputs": [],
   "source": [
    "# Generate a summary statistics table of mean, median, variance, # standard deviation, and SEM of the \n",
    "#tumor volume for each regimen.\n",
    "\n",
    "regimen_gb = all_data_red_df.groupby([\"Drug Regimen\"])"
   ]
  },
  {
   "cell_type": "code",
   "execution_count": 98,
   "metadata": {},
   "outputs": [],
   "source": [
    "tumor_mean = regimen_gb[\"Tumor Volume (mm3)\"].mean()\n",
    "tumor_median = regimen_gb[\"Tumor Volume (mm3)\"].median()\n",
    "tumor_var = regimen_gb[\"Tumor Volume (mm3)\"].var(ddof=0)\n",
    "tumor_std = regimen_gb[\"Tumor Volume (mm3)\"].std(ddof=0)\n",
    "tumor_sem = regimen_gb[\"Tumor Volume (mm3)\"].sem(ddof=0)"
   ]
  },
  {
   "cell_type": "code",
   "execution_count": 99,
   "metadata": {},
   "outputs": [
    {
     "data": {
      "text/html": [
       "<div>\n",
       "<style scoped>\n",
       "    .dataframe tbody tr th:only-of-type {\n",
       "        vertical-align: middle;\n",
       "    }\n",
       "\n",
       "    .dataframe tbody tr th {\n",
       "        vertical-align: top;\n",
       "    }\n",
       "\n",
       "    .dataframe thead th {\n",
       "        text-align: right;\n",
       "    }\n",
       "</style>\n",
       "<table border=\"1\" class=\"dataframe\">\n",
       "  <thead>\n",
       "    <tr style=\"text-align: right;\">\n",
       "      <th></th>\n",
       "      <th>Average Tumor Volume</th>\n",
       "      <th>Median Tumor Volume</th>\n",
       "      <th>Tumor Volume Variance</th>\n",
       "      <th>Tumor Volume St. Dev</th>\n",
       "      <th>Tumor Volume SEM</th>\n",
       "    </tr>\n",
       "    <tr>\n",
       "      <th>Drug Regimen</th>\n",
       "      <th></th>\n",
       "      <th></th>\n",
       "      <th></th>\n",
       "      <th></th>\n",
       "      <th></th>\n",
       "    </tr>\n",
       "  </thead>\n",
       "  <tbody>\n",
       "    <tr>\n",
       "      <th>Capomulin</th>\n",
       "      <td>40.675741</td>\n",
       "      <td>41.557809</td>\n",
       "      <td>24.839296</td>\n",
       "      <td>4.983904</td>\n",
       "      <td>0.328629</td>\n",
       "    </tr>\n",
       "    <tr>\n",
       "      <th>Ceftamin</th>\n",
       "      <td>52.591172</td>\n",
       "      <td>51.776157</td>\n",
       "      <td>39.069446</td>\n",
       "      <td>6.250556</td>\n",
       "      <td>0.468499</td>\n",
       "    </tr>\n",
       "    <tr>\n",
       "      <th>Infubinol</th>\n",
       "      <td>52.884795</td>\n",
       "      <td>51.820584</td>\n",
       "      <td>42.886388</td>\n",
       "      <td>6.548770</td>\n",
       "      <td>0.490851</td>\n",
       "    </tr>\n",
       "    <tr>\n",
       "      <th>Ketapril</th>\n",
       "      <td>55.235638</td>\n",
       "      <td>53.698743</td>\n",
       "      <td>68.188930</td>\n",
       "      <td>8.257659</td>\n",
       "      <td>0.602252</td>\n",
       "    </tr>\n",
       "    <tr>\n",
       "      <th>Naftisol</th>\n",
       "      <td>54.331565</td>\n",
       "      <td>52.509285</td>\n",
       "      <td>65.817708</td>\n",
       "      <td>8.112811</td>\n",
       "      <td>0.594860</td>\n",
       "    </tr>\n",
       "    <tr>\n",
       "      <th>Placebo</th>\n",
       "      <td>54.033581</td>\n",
       "      <td>52.288934</td>\n",
       "      <td>60.830138</td>\n",
       "      <td>7.799368</td>\n",
       "      <td>0.579722</td>\n",
       "    </tr>\n",
       "    <tr>\n",
       "      <th>Propriva</th>\n",
       "      <td>52.393463</td>\n",
       "      <td>50.909965</td>\n",
       "      <td>42.862273</td>\n",
       "      <td>6.546928</td>\n",
       "      <td>0.524174</td>\n",
       "    </tr>\n",
       "    <tr>\n",
       "      <th>Ramicane</th>\n",
       "      <td>40.216745</td>\n",
       "      <td>40.673236</td>\n",
       "      <td>23.383692</td>\n",
       "      <td>4.835669</td>\n",
       "      <td>0.320250</td>\n",
       "    </tr>\n",
       "    <tr>\n",
       "      <th>Stelasyn</th>\n",
       "      <td>54.233149</td>\n",
       "      <td>52.431737</td>\n",
       "      <td>59.122106</td>\n",
       "      <td>7.689090</td>\n",
       "      <td>0.571526</td>\n",
       "    </tr>\n",
       "    <tr>\n",
       "      <th>Zoniferol</th>\n",
       "      <td>53.236507</td>\n",
       "      <td>51.818479</td>\n",
       "      <td>48.266689</td>\n",
       "      <td>6.947423</td>\n",
       "      <td>0.514977</td>\n",
       "    </tr>\n",
       "  </tbody>\n",
       "</table>\n",
       "</div>"
      ],
      "text/plain": [
       "              Average Tumor Volume  Median Tumor Volume  \\\n",
       "Drug Regimen                                              \n",
       "Capomulin                40.675741            41.557809   \n",
       "Ceftamin                 52.591172            51.776157   \n",
       "Infubinol                52.884795            51.820584   \n",
       "Ketapril                 55.235638            53.698743   \n",
       "Naftisol                 54.331565            52.509285   \n",
       "Placebo                  54.033581            52.288934   \n",
       "Propriva                 52.393463            50.909965   \n",
       "Ramicane                 40.216745            40.673236   \n",
       "Stelasyn                 54.233149            52.431737   \n",
       "Zoniferol                53.236507            51.818479   \n",
       "\n",
       "              Tumor Volume Variance  Tumor Volume St. Dev  Tumor Volume SEM  \n",
       "Drug Regimen                                                                 \n",
       "Capomulin                 24.839296              4.983904          0.328629  \n",
       "Ceftamin                  39.069446              6.250556          0.468499  \n",
       "Infubinol                 42.886388              6.548770          0.490851  \n",
       "Ketapril                  68.188930              8.257659          0.602252  \n",
       "Naftisol                  65.817708              8.112811          0.594860  \n",
       "Placebo                   60.830138              7.799368          0.579722  \n",
       "Propriva                  42.862273              6.546928          0.524174  \n",
       "Ramicane                  23.383692              4.835669          0.320250  \n",
       "Stelasyn                  59.122106              7.689090          0.571526  \n",
       "Zoniferol                 48.266689              6.947423          0.514977  "
      ]
     },
     "execution_count": 99,
     "metadata": {},
     "output_type": "execute_result"
    }
   ],
   "source": [
    "#create df with new series from groupby: mean, median, variance, # standard deviation, and SEM\n",
    "tumor_stats_df = pd.DataFrame({\"Average Tumor Volume\": tumor_mean, \"Median Tumor Volume\": tumor_median, \n",
    "                             \"Tumor Volume Variance\": tumor_var, \"Tumor Volume St. Dev\": tumor_std, \n",
    "                             \"Tumor Volume SEM\": tumor_sem})\n",
    "\n",
    "tumor_stats_df"
   ]
  },
  {
   "cell_type": "markdown",
   "metadata": {},
   "source": [
    "## Bar and Pie Charts"
   ]
  },
  {
   "cell_type": "code",
   "execution_count": 100,
   "metadata": {},
   "outputs": [],
   "source": [
    "# Generate a bar plot showing the total number of datapoints for each drug regimen using pandas.\n",
    "# There should be a single bar per regimen\n",
    "drug_list = all_data_red_df[\"Drug Regimen\"].unique()\n",
    "drug_tally = regimen_gb[\"Tumor Volume (mm3)\"].count()"
   ]
  },
  {
   "cell_type": "code",
   "execution_count": 101,
   "metadata": {},
   "outputs": [],
   "source": [
    "tumor_regimen_df = pd.DataFrame(drug_tally)"
   ]
  },
  {
   "cell_type": "code",
   "execution_count": 102,
   "metadata": {
    "scrolled": true
   },
   "outputs": [
    {
     "data": {
      "image/png": "[encoded data removed]",
      "text/plain": [
       "<Figure size 432x288 with 1 Axes>"
      ]
     },
     "metadata": {
      "needs_background": "light"
     },
     "output_type": "display_data"
    }
   ],
   "source": [
    "tumor_chart = tumor_regimen_df.plot(kind=\"bar\", figsize = (6, 4), facecolor = \"red\", \n",
    "                                    title = \"Timepoints Per Drug Regimen\", legend=False)\n",
    "\n",
    "x_axis = np.arange(len(drug_list))\n",
    "tumor_chart.set_ylabel(\"Number of Timepoints\")\n",
    "plt.xlim(-0.75, len(x_axis) -0.25)\n",
    "plt.ylim(0,max(drug_tally)+25)\n",
    "fig1 = plt.gcf()\n",
    "plt.show()\n",
    "fig1.savefig(\"Results_Plots/Fig 1 - Timepoints Per Drug Regimen Barplot - Pandas\", dpi=100)"
   ]
  },
  {
   "cell_type": "code",
   "execution_count": 103,
   "metadata": {},
   "outputs": [
    {
     "data": {
      "image/png": "[encoded data removed]",
      "text/plain": [
       "<Figure size 432x288 with 1 Axes>"
      ]
     },
     "metadata": {
      "needs_background": "light"
     },
     "output_type": "display_data"
    }
   ],
   "source": [
    "# Generate identical bar plot using pyplot instead of pandas.\n",
    "x_axis = np.arange(len(drug_list))\n",
    "plt.bar(x_axis, drug_tally, color='r', alpha = 0.5, align=\"center\")\n",
    "tick_locations = [value for value in x_axis]\n",
    "plt.xticks(tick_locations, (drug_list), rotation=\"vertical\")\n",
    "plt.xlim(-1, len(x_axis)+0)\n",
    "plt.ylim(0,max(drug_tally)+25)\n",
    "plt.title(\"Timepoints Per Drug Regimen\")\n",
    "plt.xlabel(\"Drug Regimen\")\n",
    "plt.ylabel(\"Number of Timepoints\")\n",
    "\n",
    "fig2 = plt.gcf()\n",
    "plt.show()\n",
    "fig2.savefig(\"Results_Plots/Fig 2 - Timepoints Per Drug Regimen Barplot - Pyplot\", dpi=100)"
   ]
  },
  {
   "cell_type": "code",
   "execution_count": 104,
   "metadata": {},
   "outputs": [],
   "source": [
    "# Generate a pie plot showing the distribution of female versus male mice using pandas\n",
    "#use df.loc female and count(), then df.loc male then count() - or len list \n",
    "female_df = all_data_red_df.loc[(all_data_red_df[\"Sex\"] == \"Female\")]\n",
    "female_gb = female_df.groupby([\"Mouse ID\"])\n",
    "female = len(female_gb[\"Mouse ID\"].unique())\n",
    "\n",
    "male_df = all_data_red_df.loc[(all_data_red_df[\"Sex\"] == \"Male\")]\n",
    "male_gb = male_df.groupby([\"Mouse ID\"])\n",
    "male = len(male_gb[\"Mouse ID\"].unique())"
   ]
  },
  {
   "cell_type": "code",
   "execution_count": 105,
   "metadata": {},
   "outputs": [
    {
     "data": {
      "image/png": "[encoded data removed]",
      "text/plain": [
       "<Figure size 432x288 with 1 Axes>"
      ]
     },
     "metadata": {},
     "output_type": "display_data"
    }
   ],
   "source": [
    "gender = [male, female]\n",
    "gender_s = pd.Series(gender, index = range(len(gender)), name=\"\")\n",
    "labels = [\"Male\", \"Female\"]\n",
    "colors = [\"lightskyblue\", \"orange\"]\n",
    "gender_s.plot(kind=\"pie\",labels=labels, autopct='%1.1f%%', colors=colors, startangle =60, \n",
    "              legend=False)\n",
    "plt.title(\"Mouse Gender Breakdown\")\n",
    "\n",
    "fig3 = plt.gcf()\n",
    "plt.show()\n",
    "fig3.savefig(\"Results_Plots/Fig 3 - Gender Breakdown Pie Chart - Pandas\", dpi=100)"
   ]
  },
  {
   "cell_type": "code",
   "execution_count": 106,
   "metadata": {
    "scrolled": true
   },
   "outputs": [
    {
     "data": {
      "image/png": "[encoded data removed]",
      "text/plain": [
       "<Figure size 432x288 with 1 Axes>"
      ]
     },
     "metadata": {},
     "output_type": "display_data"
    }
   ],
   "source": [
    "# Generate identical pie plot using pyplot\n",
    "\n",
    "labels = [\"Male\", \"Female\"]\n",
    "sizes = [male, female]\n",
    "colors = [\"lightskyblue\", \"orange\"]\n",
    "plt.pie(sizes, labels=labels, autopct='%1.1f%%', colors=colors, startangle =60)\n",
    "plt.title(\"Mouse Gender Breakdown\")\n",
    "\n",
    "fig4 = plt.gcf()\n",
    "plt.show()\n",
    "fig4.savefig(\"Results_Plots/Fig 4 - Gender Breakdown Pie Chart - Pyplot\", dpi=100)"
   ]
  },
  {
   "cell_type": "markdown",
   "metadata": {},
   "source": [
    "## Quartiles, Outliers and Boxplots"
   ]
  },
  {
   "cell_type": "code",
   "execution_count": 107,
   "metadata": {},
   "outputs": [
    {
     "data": {
      "text/html": [
       "<div>\n",
       "<style scoped>\n",
       "    .dataframe tbody tr th:only-of-type {\n",
       "        vertical-align: middle;\n",
       "    }\n",
       "\n",
       "    .dataframe tbody tr th {\n",
       "        vertical-align: top;\n",
       "    }\n",
       "\n",
       "    .dataframe thead th {\n",
       "        text-align: right;\n",
       "    }\n",
       "</style>\n",
       "<table border=\"1\" class=\"dataframe\">\n",
       "  <thead>\n",
       "    <tr style=\"text-align: right;\">\n",
       "      <th></th>\n",
       "      <th>Drug Regimen</th>\n",
       "      <th>Mouse ID</th>\n",
       "      <th>Final Tumor Volume (mm3)</th>\n",
       "    </tr>\n",
       "  </thead>\n",
       "  <tbody>\n",
       "    <tr>\n",
       "      <th>0</th>\n",
       "      <td>Capomulin</td>\n",
       "      <td>s185</td>\n",
       "      <td>23.343598</td>\n",
       "    </tr>\n",
       "    <tr>\n",
       "      <th>1</th>\n",
       "      <td>Capomulin</td>\n",
       "      <td>x401</td>\n",
       "      <td>28.484033</td>\n",
       "    </tr>\n",
       "    <tr>\n",
       "      <th>2</th>\n",
       "      <td>Capomulin</td>\n",
       "      <td>m601</td>\n",
       "      <td>28.430964</td>\n",
       "    </tr>\n",
       "    <tr>\n",
       "      <th>3</th>\n",
       "      <td>Capomulin</td>\n",
       "      <td>f966</td>\n",
       "      <td>30.485985</td>\n",
       "    </tr>\n",
       "    <tr>\n",
       "      <th>4</th>\n",
       "      <td>Capomulin</td>\n",
       "      <td>u364</td>\n",
       "      <td>31.023923</td>\n",
       "    </tr>\n",
       "    <tr>\n",
       "      <th>...</th>\n",
       "      <td>...</td>\n",
       "      <td>...</td>\n",
       "      <td>...</td>\n",
       "    </tr>\n",
       "    <tr>\n",
       "      <th>95</th>\n",
       "      <td>Ceftamin</td>\n",
       "      <td>x226</td>\n",
       "      <td>45.000000</td>\n",
       "    </tr>\n",
       "    <tr>\n",
       "      <th>96</th>\n",
       "      <td>Ceftamin</td>\n",
       "      <td>x581</td>\n",
       "      <td>64.634949</td>\n",
       "    </tr>\n",
       "    <tr>\n",
       "      <th>97</th>\n",
       "      <td>Ceftamin</td>\n",
       "      <td>x822</td>\n",
       "      <td>61.386660</td>\n",
       "    </tr>\n",
       "    <tr>\n",
       "      <th>98</th>\n",
       "      <td>Ceftamin</td>\n",
       "      <td>y769</td>\n",
       "      <td>68.594745</td>\n",
       "    </tr>\n",
       "    <tr>\n",
       "      <th>99</th>\n",
       "      <td>Ceftamin</td>\n",
       "      <td>y865</td>\n",
       "      <td>64.729837</td>\n",
       "    </tr>\n",
       "  </tbody>\n",
       "</table>\n",
       "<p>100 rows × 3 columns</p>\n",
       "</div>"
      ],
      "text/plain": [
       "   Drug Regimen Mouse ID  Final Tumor Volume (mm3)\n",
       "0     Capomulin     s185                 23.343598\n",
       "1     Capomulin     x401                 28.484033\n",
       "2     Capomulin     m601                 28.430964\n",
       "3     Capomulin     f966                 30.485985\n",
       "4     Capomulin     u364                 31.023923\n",
       "..          ...      ...                       ...\n",
       "95     Ceftamin     x226                 45.000000\n",
       "96     Ceftamin     x581                 64.634949\n",
       "97     Ceftamin     x822                 61.386660\n",
       "98     Ceftamin     y769                 68.594745\n",
       "99     Ceftamin     y865                 64.729837\n",
       "\n",
       "[100 rows x 3 columns]"
      ]
     },
     "execution_count": 107,
     "metadata": {},
     "output_type": "execute_result"
    }
   ],
   "source": [
    "# Calculate the final tumor volume of each mouse across the following four treatment regimens:  \n",
    "# Capomulin, Ramicane, Infubinol, and Ceftamin\n",
    "\n",
    "#find last tumor volume for each mouse\n",
    "mouse_gb = all_data_red_df.groupby([\"Mouse ID\"])\n",
    "final_vol_df = pd.concat([mouse_gb.tail(1)]).drop_duplicates()\n",
    "\n",
    "#reset index to use in loc\n",
    "final_vol_df = final_vol_df.set_index(\"Drug Regimen\")\n",
    "\n",
    "#use loc to find final tumor volume  \n",
    "vol_select = final_vol_df.loc[[\"Capomulin\", \"Ramicane\", \"Infubinol\", \"Ceftamin\"], \n",
    "                              [\"Mouse ID\", \"Tumor Volume (mm3)\"]]\n",
    "vol_select_df = pd.DataFrame(vol_select) \n",
    "\n",
    "#rename column:\n",
    "vol_select_df = vol_select_df.rename(columns={\"Tumor Volume (mm3)\": \"Final Tumor Volume (mm3)\"})\n",
    "\n",
    "#reset index:\n",
    "vol_select_df.reset_index(inplace=True)\n",
    "\n",
    "vol_select_df"
   ]
  },
  {
   "cell_type": "markdown",
   "metadata": {},
   "source": [
    "Calculate the quartiles and IQR and quantitatively determine if there are any potential outliers across all four treatment regimens."
   ]
  },
  {
   "cell_type": "code",
   "execution_count": 108,
   "metadata": {
    "scrolled": true
   },
   "outputs": [
    {
     "name": "stdout",
     "output_type": "stream",
     "text": [
      "Capomulin\n",
      "-------------------------------------------------\n",
      "Lower Quartile: 32.38\n",
      "Upper Quartile: 40.16\n",
      "Interquartile Range: 7.78\n",
      "Lower Boundary: 20.71\n",
      "Upper Boundary: 51.83\n",
      "Min Final Tumor Vol: 23.34\n",
      "Max Final Tumor Vol: 47.69\n",
      "The dataset did not contain any outliers.\n",
      "-------------------------------------------------\n",
      "Ramicane\n",
      "-------------------------------------------------\n",
      "Lower Quartile: 31.56\n",
      "Upper Quartile: 40.66\n",
      "Interquartile Range: 9.1\n",
      "Lower Boundary: 17.91\n",
      "Upper Boundary: 54.31\n",
      "Min Final Tumor Vol: 22.05\n",
      "Max Final Tumor Vol: 45.22\n",
      "The dataset did not contain any outliers.\n",
      "-------------------------------------------------\n",
      "Infubinol\n",
      "-------------------------------------------------\n",
      "Lower Quartile: 54.05\n",
      "Upper Quartile: 65.53\n",
      "Interquartile Range: 11.48\n",
      "Lower Boundary: 36.83\n",
      "Upper Boundary: 82.75\n",
      "Min Final Tumor Vol: 36.32\n",
      "Max Final Tumor Vol: 72.23\n",
      "Lower-bound outlier(s) exist.\n",
      "There are no upper-bound outliers.\n",
      "-------------------------------------------------\n",
      "Ceftamin\n",
      "-------------------------------------------------\n",
      "Lower Quartile: 48.72\n",
      "Upper Quartile: 64.3\n",
      "Interquartile Range: 15.58\n",
      "Lower Boundary: 25.35\n",
      "Upper Boundary: 87.67\n",
      "Min Final Tumor Vol: 45.0\n",
      "Max Final Tumor Vol: 68.92\n",
      "The dataset did not contain any outliers.\n",
      "-------------------------------------------------\n"
     ]
    }
   ],
   "source": [
    "# Calculate quartiles, IQR, and identify potential outliers for each regimen.\n",
    "\n",
    "# Put treatments into a list for for loop (and later for plot labels)\n",
    "drug = [\"Capomulin\", \"Ramicane\", \"Infubinol\", \"Ceftamin\"]\n",
    "\n",
    "# Create empty list to fill with tumor vol data (for plotting)\n",
    "vol_list = []\n",
    "\n",
    "# Calculate the IQR and quantitatively determine if there are any potential outliers. \n",
    "for drug in drug: \n",
    "    vol = vol_select_df.loc[vol_select_df[\"Drug Regimen\"] == drug][\"Final Tumor Volume (mm3)\"]\n",
    "    vol_list.append(vol)\n",
    "    quartiles = vol.quantile([0.25,0.5,0.75])\n",
    "    lowerq = round(quartiles[0.25],2)\n",
    "    upperq = round(quartiles[0.75],2)\n",
    "    iqr = round(upperq-lowerq ,2)\n",
    "    lower_bound = round(lowerq - (1.5*iqr),2)\n",
    "    upper_bound = round(upperq + (1.5*iqr),2)        \n",
    "    min_vol = round(vol.min(), 2)\n",
    "    max_vol = round(vol.max(), 2)\n",
    "     \n",
    "    print(f\"{drug}\")\n",
    "    print(f\"-------------------------------------------------\")\n",
    "    print(f\"Lower Quartile: {lowerq}\")\n",
    "    print(f\"Upper Quartile: {upperq}\")\n",
    "    print(f\"Interquartile Range: {iqr}\")    \n",
    "    print(f\"Lower Boundary: {lower_bound}\")\n",
    "    print(f\"Upper Boundary: {upper_bound}\")\n",
    "    print(f\"Min Final Tumor Vol: {min_vol}\")\n",
    "    print(f\"Max Final Tumor Vol: {max_vol}\")\n",
    "    if (min_vol >= lower_bound) & (max_vol <= upper_bound):\n",
    "        print(\"The dataset did not contain any outliers.\")\n",
    "    else:\n",
    "        if min_vol < lower_bound:\n",
    "            print(\"Lower-bound outlier(s) exist.\")\n",
    "        else:\n",
    "            print(\"There are no lower-bound outliers.\")\n",
    "        if max_vol > upper_bound:\n",
    "            print(\"Upper-bound outlier(s) exist.\")\n",
    "        else:\n",
    "            print(\"There are no upper-bound outliers.\")\n",
    "    print(f\"-------------------------------------------------\")\n"
   ]
  },
  {
   "cell_type": "code",
   "execution_count": 143,
   "metadata": {},
   "outputs": [
    {
     "data": {
      "image/png": "[encoded data removed]",
      "text/plain": [
       "<Figure size 432x288 with 1 Axes>"
      ]
     },
     "metadata": {
      "needs_background": "light"
     },
     "output_type": "display_data"
    }
   ],
   "source": [
    "# Generate a box plot of the final tumor volume of each mouse across four regimens of interest\n",
    "# There should be a single chart with four box plots inside it.\n",
    "\n",
    "# Multiple box plots in one \n",
    "L1 = vol_select_df.loc[vol_select_df[\"Drug Regimen\"] == \"Capomulin\"][\"Final Tumor Volume (mm3)\"]\n",
    "L2 = vol_select_df.loc[vol_select_df[\"Drug Regimen\"] == \"Ramicane\"][\"Final Tumor Volume (mm3)\"]\n",
    "L3 = vol_select_df.loc[vol_select_df[\"Drug Regimen\"] == \"Infubinol\"][\"Final Tumor Volume (mm3)\"]\n",
    "L4 = vol_select_df.loc[vol_select_df[\"Drug Regimen\"] == \"Ceftamin\"][\"Final Tumor Volume (mm3)\"]\n",
    "\n",
    "x = []\n",
    "labels = [\"Capomulin\", \"Ramicane\", \"Infubinol\", \"Ceftamin\"]\n",
    "plt.boxplot([L1, L2, L3, L4])\n",
    "plt.xticks(x, labels)\n",
    "plt.title(\"Final Tumor Volume Distribution\")\n",
    "plt.ylabel(\"Final Tumor Volume (mm3)\")\n",
    "plt.xlabel(\"Drug Regimen\")\n",
    "plt.grid(color='grey', axis='y', linestyle='-', linewidth=0.5, alpha=0.75)\n",
    "\n",
    "red_square = dict(markerfacecolor='r', marker='s')\n",
    "plt.boxplot([L1, L2, L3, L4],flierprops=red_square)\n",
    "\n",
    "fig5 = plt.gcf()\n",
    "plt.show()\n",
    "fig5.savefig(\"Results_Plots/Fig 5 - Final Tumor Volume Distribution - Boxplot\", dpi=100)"
   ]
  },
  {
   "cell_type": "markdown",
   "metadata": {},
   "source": [
    "## Line and Scatter Plots"
   ]
  },
  {
   "cell_type": "markdown",
   "metadata": {},
   "source": [
    "### Line Plot"
   ]
  },
  {
   "cell_type": "code",
   "execution_count": 110,
   "metadata": {},
   "outputs": [],
   "source": [
    "# Generate a line plot of tumor volume vs. time point for a single mouse treated with Capomulin\n",
    "\n",
    "x401_stats_df = all_data_red_df.loc[all_data_red_df[\"Mouse ID\"] == \"x401\", :] "
   ]
  },
  {
   "cell_type": "code",
   "execution_count": 127,
   "metadata": {
    "scrolled": true
   },
   "outputs": [
    {
     "data": {
      "image/png": "[encoded data removed]",
      "text/plain": [
       "<Figure size 432x288 with 1 Axes>"
      ]
     },
     "metadata": {
      "needs_background": "light"
     },
     "output_type": "display_data"
    }
   ],
   "source": [
    "x_axis = x401_stats_df[\"Timepoint\"]\n",
    "y_axis = x401_stats_df[\"Tumor Volume (mm3)\"]\n",
    "\n",
    "plt.plot(x_axis, y_axis, marker='o', color='green')\n",
    "plt.title(\"Tumor Size vs. Time - Mouse x401\")\n",
    "plt.xlabel(\"Timepoint (days)\")\n",
    "plt.ylabel(\"Tumor Volume (mm3)\")\n",
    "\n",
    "fig6 = plt.gcf()\n",
    "plt.show()\n",
    "fig6.savefig(\"Results_Plots/Fig 6 - Tumor Size vs Time - Line Chart\", dpi=100)"
   ]
  },
  {
   "cell_type": "markdown",
   "metadata": {},
   "source": [
    "### Scatter Plot, Correlation and Linear Regression"
   ]
  },
  {
   "cell_type": "code",
   "execution_count": 112,
   "metadata": {},
   "outputs": [],
   "source": [
    "# Generate a scatter plot of average tumor volume vs. mouse weight for all mice in the Capomulin regimen\n",
    "capomulin_stats_df = all_data_red_df.loc[all_data_red_df[\"Drug Regimen\"] == \"Capomulin\", :] \n",
    "mouse_stats_Cap_gb = capomulin_stats_df.groupby([\"Weight (g)\"]) \n",
    "avg_vol_Cap2 = mouse_stats_Cap_gb['Tumor Volume (mm3)'].mean()\n",
    "\n",
    "avg_vol_df = pd.DataFrame(avg_vol_Cap2)\n",
    "avg_vol_df = avg_vol_df.rename(columns={\"Tumor Volume (mm3)\": \"Average Tumor Volume (mm3)\"})\n",
    "avg_vol_df.reset_index(inplace=True)"
   ]
  },
  {
   "cell_type": "code",
   "execution_count": 113,
   "metadata": {},
   "outputs": [
    {
     "name": "stdout",
     "output_type": "stream",
     "text": [
      "y = 0.89x + 22.76\n",
      "The correlation between the Average Tumor Size and Mouse Weight is 0.95\n"
     ]
    },
    {
     "data": {
      "image/png": "[encoded data removed]",
      "text/plain": [
       "<Figure size 432x288 with 1 Axes>"
      ]
     },
     "metadata": {
      "needs_background": "light"
     },
     "output_type": "display_data"
    }
   ],
   "source": [
    "x_axis = avg_vol_df[\"Weight (g)\"]\n",
    "y_axis = avg_vol_df[\"Average Tumor Volume (mm3)\"]\n",
    "\n",
    "(slope, intercept, rvalue, pvalue, stderr) = linregress(x_axis, y_axis)\n",
    "regress_values = x_axis * slope + intercept\n",
    "line_eq = \"y = \" + str(round(slope,2)) + \"x + \" + str(round(intercept,2))\n",
    "\n",
    "#scatter plot and equation \n",
    "plt.scatter(x_axis, y_axis, marker=\"o\", facecolors=\"blue\", edgecolors=\"green\")\n",
    "plt.title(\"Average Tumor Size vs. Weight\")\n",
    "plt.xlabel(\"Mouse Weight (g)\")\n",
    "plt.ylabel(\"Average Tumor Volume (mm3)\")\n",
    "\n",
    "#add line\n",
    "plt.annotate(line_eq, (21,37), fontsize = 12, color=\"red\")\n",
    "\n",
    "plt.plot(x_axis, regress_values, \"r-\")\n",
    "print(line_eq)\n",
    "\n",
    "# Calculate the correlation coefficient and linear regression model for mouse weight and average tumor \n",
    "#volume #for the Capomulin regimen\n",
    "pearsonr = st.pearsonr(x_axis, y_axis)\n",
    "\n",
    "print(f\"The correlation between the Average Tumor Size and Mouse Weight is {round(pearsonr[0],2)}\")\n",
    "\n",
    "fig7 = plt.gcf()\n",
    "plt.show()\n",
    "fig7.savefig(\"Results_Plots/Fig 7 - Average Tumor Size vs Weight - Scatter Plot, Linear Reg\", dpi=100)"
   ]
  },
  {
   "cell_type": "markdown",
   "metadata": {},
   "source": [
    "# Observations and Insights"
   ]
  },
  {
   "cell_type": "markdown",
   "metadata": {},
   "source": []
  }
 ],
 "metadata": {
  "anaconda-cloud": {},
  "kernelspec": {
   "display_name": "Python 3",
   "language": "python",
   "name": "python3"
  },
  "language_info": {
   "codemirror_mode": {
    "name": "ipython",
    "version": 3
   },
   "file_extension": ".py",
   "mimetype": "text/x-python",
   "name": "python",
   "nbconvert_exporter": "python",
   "pygments_lexer": "ipython3",
   "version": "3.6.10"
  },
  "toc": {
   "base_numbering": 1,
   "nav_menu": {},
   "number_sections": true,
   "sideBar": true,
   "skip_h1_title": false,
   "title_cell": "Table of Contents",
   "title_sidebar": "Contents",
   "toc_cell": false,
   "toc_position": {},
   "toc_section_display": true,
   "toc_window_display": false
  },
  "varInspector": {
   "cols": {
    "lenName": 16,
    "lenType": 16,
    "lenVar": 40
   },
   "kernels_config": {
    "python": {
     "delete_cmd_postfix": "",
     "delete_cmd_prefix": "del ",
     "library": "var_list.py",
     "varRefreshCmd": "print(var_dic_list())"
    },
    "r": {
     "delete_cmd_postfix": ") ",
     "delete_cmd_prefix": "rm(",
     "library": "var_list.r",
     "varRefreshCmd": "cat(var_dic_list()) "
    }
   },
   "types_to_exclude": [
    "module",
    "function",
    "builtin_function_or_method",
    "instance",
    "_Feature"
   ],
   "window_display": false
  }
 },
 "nbformat": 4,
 "nbformat_minor": 4
}
